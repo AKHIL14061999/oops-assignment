{
 "cells": [
  {
   "cell_type": "code",
   "execution_count": 3,
   "id": "a1c729d2-3d7d-4f9a-b4de-88b40ee3858c",
   "metadata": {},
   "outputs": [],
   "source": [
    "#Answer 1-\n",
    "\"\"\"\n",
    "A class is a blueprint for creating objects. It defines the properties and behaviors of objects of a certain type. \n",
    "For example, we could have a \"Person\" class that has properties such as \"name\", \"age\", \"gender\", etc. and behaviors \n",
    "such as \"walk\", \"talk\", \"eat\", etc.\n",
    "\n",
    "An object is an instance of a class. It is a real-world entity that can be manipulated and manipulated. \n",
    "For example, we could create two objects of the \"Person\" class, each with different values for the properties \"name\", \"age\", \"gender\", etc. \n",
    "These two objects would be completely independent of each other, even though they are both instances of the same \"Person\" class.\"\"\"\n",
    "\n",
    "class Person:\n",
    "    def __init__(self, name, age, gender):\n",
    "        self.name = name\n",
    "        self.age = age\n",
    "        self.gender = gender\n",
    "\n",
    "    def return_details(self):\n",
    "        return self.name,self.age,self.gender\n",
    "\n",
    "person1 = Person(\"Akash Tripathi\", 20, \"Male\")\n",
    "person2 = Person(\"Snehil Yadav\", 21, \"Male\")\n",
    "person3 = Person(\"Aniket Yadav\", 25, \"Male\")\n",
    "person4 = Person(\"Himanshu Gupta\", 23, \"Male\")"
   ]
  },
  {
   "cell_type": "code",
   "execution_count": 4,
   "id": "efa111a4-05a7-4abd-a3b0-008616fddab3",
   "metadata": {},
   "outputs": [
    {
     "data": {
      "text/plain": [
       "('Akash Tripathi', 20, 'Male')"
      ]
     },
     "execution_count": 4,
     "metadata": {},
     "output_type": "execute_result"
    }
   ],
   "source": [
    "person1.return_details()"
   ]
  },
  {
   "cell_type": "code",
   "execution_count": 5,
   "id": "111fa271-ba06-4987-8a20-de6733423ef0",
   "metadata": {},
   "outputs": [
    {
     "data": {
      "text/plain": [
       "('Snehil Yadav', 21, 'Male')"
      ]
     },
     "execution_count": 5,
     "metadata": {},
     "output_type": "execute_result"
    }
   ],
   "source": [
    "person2.return_details()"
   ]
  },
  {
   "cell_type": "code",
   "execution_count": 6,
   "id": "965e0d26-c850-46b8-99f4-695b1343c483",
   "metadata": {},
   "outputs": [
    {
     "data": {
      "text/plain": [
       "('Aniket Yadav', 25, 'Male')"
      ]
     },
     "execution_count": 6,
     "metadata": {},
     "output_type": "execute_result"
    }
   ],
   "source": [
    "person3.return_details()"
   ]
  },
  {
   "cell_type": "code",
   "execution_count": 7,
   "id": "1dbb4e7e-e2da-4088-a8a3-c02dd9d0bd62",
   "metadata": {},
   "outputs": [
    {
     "data": {
      "text/plain": [
       "('Himanshu Gupta', 23, 'Male')"
      ]
     },
     "execution_count": 7,
     "metadata": {},
     "output_type": "execute_result"
    }
   ],
   "source": [
    "person4.return_details()"
   ]
  },
  {
   "cell_type": "code",
   "execution_count": 8,
   "id": "d42c4e64-0463-4467-a10f-8d295eafd792",
   "metadata": {},
   "outputs": [
    {
     "data": {
      "text/plain": [
       "'Four pillars of OOPS is -\\n-polymorphism\\n-inheritance\\n-Encapsulation\\n-Abstraction'"
      ]
     },
     "execution_count": 8,
     "metadata": {},
     "output_type": "execute_result"
    }
   ],
   "source": [
    "#Answer 2-\n",
    "\"\"\"Four pillars of OOPS is -\n",
    "-polymorphism\n",
    "-inheritance\n",
    "-Encapsulation\n",
    "-Abstraction\"\"\""
   ]
  },
  {
   "cell_type": "code",
   "execution_count": 9,
   "id": "00255520-5cd5-4773-860c-3ac99a35fccf",
   "metadata": {},
   "outputs": [],
   "source": [
    "#Answer 3-\n",
    "\"\"\"\n",
    "The __init__ method is a special method in Python that is automatically called when an object of a class is created. \n",
    "It is also known as a constructor in other object-oriented programming languages.The __init__ method is used to initialize the object's \n",
    "properties and set up any initial values that the object needs when it is created.The __init__ method takes self as its first argument, \n",
    "which refers to the newly created object, and other arguments that are required to initialize the object's properties.\"\"\"\n",
    "\n",
    "class car:\n",
    "    \n",
    "    def __init__(self,car_color,car_name):\n",
    "        self.car_color=car_color\n",
    "        self.car_model=car_name\n",
    "        \n",
    "    def return_car_details(self):\n",
    "        return self.car_color,self.car_model"
   ]
  },
  {
   "cell_type": "code",
   "execution_count": 10,
   "id": "c9392427-29ce-4363-8db5-fb510c00a674",
   "metadata": {},
   "outputs": [
    {
     "data": {
      "text/plain": [
       "\"\\nIn Object-Oriented Programming (OOP), self is a special keyword used to refer to the instance of the \\nobject itself within a class method self is used to access the properties and methods of the object from \\nwithin the class. It is automatically passed as the first argument to each method defined in the class, \\nso it is always available for use within the method,This allows us to access and manipulate the object's \\nproperties from within the class without having to explicitly pass the object as an argument.\\n\""
      ]
     },
     "execution_count": 10,
     "metadata": {},
     "output_type": "execute_result"
    }
   ],
   "source": [
    "#Answer 4-\n",
    "\"\"\"\n",
    "In Object-Oriented Programming (OOP), self is a special keyword used to refer to the instance of the \n",
    "object itself within a class method self is used to access the properties and methods of the object from \n",
    "within the class. It is automatically passed as the first argument to each method defined in the class, \n",
    "so it is always available for use within the method,This allows us to access and manipulate the object's \n",
    "properties from within the class without having to explicitly pass the object as an argument.\n",
    "\"\"\""
   ]
  },
  {
   "cell_type": "code",
   "execution_count": 11,
   "id": "64675215-3212-4cbf-811a-b73e825ec28a",
   "metadata": {},
   "outputs": [],
   "source": [
    "#Answer 5-\n",
    "\"\"\"\n",
    "Inheritance is a mechanism in Object-Oriented Programming (OOP) that allows new classes to be created from \n",
    "existing classes by inheriting the properties and behaviors of the existing classes. This enables code reusability\n",
    "and reduces the amount of redundant code\n",
    "\n",
    "\n",
    "Multiple inheritance: In multiple inheritance, a derived class inherits from multiple base :\n",
    "ex:\n",
    "\"\"\"\n",
    "class Parent1:\n",
    "    def test_1(self):\n",
    "        return \"I'm from parent 1\"\n",
    "\n",
    "class Parent2:\n",
    "    def test_2(self):\n",
    "        return \"I'm from parent 2\"\n",
    "\n",
    "class Child(Parent1, Parent2):\n",
    "    pass"
   ]
  },
  {
   "cell_type": "code",
   "execution_count": 12,
   "id": "d55fc320-76e2-4723-8c66-f91d14634101",
   "metadata": {},
   "outputs": [],
   "source": [
    "#Multiple Inheritance\n",
    "obj_child=Child()"
   ]
  },
  {
   "cell_type": "code",
   "execution_count": 13,
   "id": "e1a21826-63ab-4f0c-a805-da9a07d773b1",
   "metadata": {},
   "outputs": [
    {
     "data": {
      "text/plain": [
       "\"I'm from parent 1\""
      ]
     },
     "execution_count": 13,
     "metadata": {},
     "output_type": "execute_result"
    }
   ],
   "source": [
    "obj_child.test_1()"
   ]
  },
  {
   "cell_type": "code",
   "execution_count": 14,
   "id": "cf82772a-3a46-4136-be01-b608b486b387",
   "metadata": {},
   "outputs": [
    {
     "data": {
      "text/plain": [
       "\"I'm from parent 2\""
      ]
     },
     "execution_count": 14,
     "metadata": {},
     "output_type": "execute_result"
    }
   ],
   "source": [
    "obj_child.test_2()"
   ]
  },
  {
   "cell_type": "code",
   "execution_count": 15,
   "id": "c687f0a8-f15d-4be4-a82c-3fd2273e8962",
   "metadata": {},
   "outputs": [],
   "source": [
    "\"\"\"\n",
    "Hierarchical inheritance: In hierarchical inheritance, multiple derived classes inherit from a single base class\n",
    "ex:\n",
    "\n",
    "\"\"\"\n",
    "#Class 1\n",
    "class class1:\n",
    "    def test_class1(self):\n",
    "        return \" Function of Class 1\"\n",
    "#class 2\n",
    "class class2:\n",
    "    \n",
    "    def test_class2(self):\n",
    "        return \" Function of Class 2\"  \n",
    "#class 3 Who inherit Class 1 & class 2\n",
    "class class3(class1,class2):\n",
    "    pass"
   ]
  },
  {
   "cell_type": "code",
   "execution_count": 16,
   "id": "482bbd11-b2fe-459f-9e71-ed658bbc9912",
   "metadata": {},
   "outputs": [],
   "source": [
    "#Making Object of class 3-\n",
    "obj_class3=class3()"
   ]
  },
  {
   "cell_type": "code",
   "execution_count": 17,
   "id": "3d403994-274c-43aa-aa5b-3c2b7210050f",
   "metadata": {},
   "outputs": [
    {
     "data": {
      "text/plain": [
       "' Function of Class 1'"
      ]
     },
     "execution_count": 17,
     "metadata": {},
     "output_type": "execute_result"
    }
   ],
   "source": [
    "obj_class3.test_class1()"
   ]
  },
  {
   "cell_type": "code",
   "execution_count": 18,
   "id": "3e716824-a393-4b56-bcd6-4d0d94b5b7cf",
   "metadata": {},
   "outputs": [
    {
     "data": {
      "text/plain": [
       "' Function of Class 1'"
      ]
     },
     "execution_count": 18,
     "metadata": {},
     "output_type": "execute_result"
    }
   ],
   "source": [
    "obj_class3.test_class1()"
   ]
  },
  {
   "cell_type": "code",
   "execution_count": 19,
   "id": "c6b80143-454a-4765-b675-4dfef9b8aa84",
   "metadata": {},
   "outputs": [
    {
     "data": {
      "text/plain": [
       "'\\nSingle inheritance: In single inheritance, a derived class inherits from a single base class\\nEx:\\n'"
      ]
     },
     "execution_count": 19,
     "metadata": {},
     "output_type": "execute_result"
    }
   ],
   "source": [
    "\"\"\"\n",
    "Single inheritance: In single inheritance, a derived class inherits from a single base class\n",
    "Ex:\n",
    "\"\"\""
   ]
  },
  {
   "cell_type": "code",
   "execution_count": 20,
   "id": "3bf1f9fd-f41a-46f7-a4fd-307a0b0b2d59",
   "metadata": {},
   "outputs": [],
   "source": [
    "class Animal:\n",
    "    def make_sound(self):\n",
    "        print(\"Some generic animal sound\")\n",
    "\n",
    "class Dog(Animal):\n",
    "    def make_sound(self):\n",
    "        print(\"ENGLISH ME Woof Woof --  HINDI ME BHAUU \")"
   ]
  },
  {
   "cell_type": "code",
   "execution_count": 21,
   "id": "14c494bf-a85b-4d73-8fed-9a56924fdbc6",
   "metadata": {},
   "outputs": [
    {
     "name": "stdout",
     "output_type": "stream",
     "text": [
      "ENGLISH ME Woof Woof --  HINDI ME BHAUU \n"
     ]
    }
   ],
   "source": [
    "dog = Dog()\n",
    "\n",
    "dog.make_sound()"
   ]
  },
  {
   "cell_type": "code",
   "execution_count": null,
   "id": "96a02cee-57b8-4efa-a2d7-d0387bb60bd4",
   "metadata": {},
   "outputs": [],
   "source": []
  },
  {
   "cell_type": "code",
   "execution_count": null,
   "id": "aad6b78a-1ffe-4004-9603-2fc2133dea8d",
   "metadata": {},
   "outputs": [],
   "source": []
  },
  {
   "cell_type": "code",
   "execution_count": null,
   "id": "875dc76f-af7b-4976-a53b-361ad8f6931e",
   "metadata": {},
   "outputs": [],
   "source": []
  }
 ],
 "metadata": {
  "kernelspec": {
   "display_name": "Python 3 (ipykernel)",
   "language": "python",
   "name": "python3"
  },
  "language_info": {
   "codemirror_mode": {
    "name": "ipython",
    "version": 3
   },
   "file_extension": ".py",
   "mimetype": "text/x-python",
   "name": "python",
   "nbconvert_exporter": "python",
   "pygments_lexer": "ipython3",
   "version": "3.10.8"
  }
 },
 "nbformat": 4,
 "nbformat_minor": 5
}
